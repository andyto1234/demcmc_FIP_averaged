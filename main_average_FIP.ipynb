{
 "cells": [
  {
   "cell_type": "code",
   "execution_count": 1,
   "id": "c61ca177",
   "metadata": {},
   "outputs": [],
   "source": [
    "%load_ext autoreload\n",
    "%autoreload 2"
   ]
  },
  {
   "cell_type": "code",
   "execution_count": 2,
   "id": "54c41853",
   "metadata": {},
   "outputs": [],
   "source": [
    "import numpy as np\n",
    "import matplotlib.pyplot as plt\n",
    "from astropy import units as u\n",
    "from astropy.coordinates import SkyCoord\n",
    "import sunpy.map\n",
    "from sunpy.coordinates import frames\n",
    "import datetime as dt\n",
    "from sunpy.coordinates import propagate_with_solar_surface\n",
    "import glob\n",
    "from asheis import asheis\n",
    "import eispac"
   ]
  },
  {
   "cell_type": "code",
   "execution_count": 3,
   "metadata": {},
   "outputs": [],
   "source": [
    "# Function to define the regions of interest and get the parameter values for those ROIs\n",
    "def get_iris_rois(map):\n",
    "    crd_time = dt.datetime.strptime('2023-03-29T11:14:04', '%Y-%m-%dT%H:%M:%S')\n",
    "\n",
    "    # Regions of interest to compare different regions of EUI image\n",
    "    crd_r1_bl = SkyCoord(214*u.arcsec, -210*u.arcsec, frame=frames.Helioprojective, observer='earth', obstime=crd_time)\n",
    "    crd_r1_tr = SkyCoord(218*u.arcsec, -206*u.arcsec, frame=frames.Helioprojective, observer='earth', obstime=crd_time)\n",
    "    crd_r2_bl = SkyCoord(207*u.arcsec, -208*u.arcsec, frame=frames.Helioprojective, observer='earth', obstime=crd_time)\n",
    "    crd_r2_tr = SkyCoord(212*u.arcsec, -204*u.arcsec, frame=frames.Helioprojective, observer='earth', obstime=crd_time)\n",
    "    crd_r3_bl = SkyCoord(213*u.arcsec, -203*u.arcsec, frame=frames.Helioprojective, observer='earth', obstime=crd_time)\n",
    "    crd_r3_tr = SkyCoord(218*u.arcsec, -197*u.arcsec, frame=frames.Helioprojective, observer='earth', obstime=crd_time)\n",
    "    crd_r4_bl = SkyCoord(218*u.arcsec, -215*u.arcsec, frame=frames.Helioprojective, observer='earth', obstime=crd_time)\n",
    "    crd_r4_tr = SkyCoord(234*u.arcsec, -207*u.arcsec, frame=frames.Helioprojective, observer='earth', obstime=crd_time)\n",
    "    crd_r5_bl = SkyCoord(194*u.arcsec, -201*u.arcsec, frame=frames.Helioprojective, observer='earth', obstime=crd_time)\n",
    "    crd_r5_tr = SkyCoord(202*u.arcsec, -198*u.arcsec, frame=frames.Helioprojective, observer='earth', obstime=crd_time)\n",
    "    crd_r6_bl = SkyCoord(213*u.arcsec, -187*u.arcsec, frame=frames.Helioprojective, observer='earth', obstime=crd_time)\n",
    "    crd_r6_tr = SkyCoord(228*u.arcsec, -169*u.arcsec, frame=frames.Helioprojective, observer='earth', obstime=crd_time)\n",
    "\n",
    "    with propagate_with_solar_surface():\n",
    "        r1_bl_crd = (crd_r1_bl).transform_to(map.coordinate_frame)\n",
    "        r1_tr_crd = (crd_r1_tr).transform_to(map.coordinate_frame)\n",
    "        r2_bl_crd = (crd_r2_bl).transform_to(map.coordinate_frame)\n",
    "        r2_tr_crd = (crd_r2_tr).transform_to(map.coordinate_frame)\n",
    "        r3_bl_crd = (crd_r3_bl).transform_to(map.coordinate_frame)\n",
    "        r3_tr_crd = (crd_r3_tr).transform_to(map.coordinate_frame)\n",
    "        r4_bl_crd = (crd_r4_bl).transform_to(map.coordinate_frame)\n",
    "        r4_tr_crd = (crd_r4_tr).transform_to(map.coordinate_frame)\n",
    "        r5_bl_crd = (crd_r5_bl).transform_to(map.coordinate_frame)\n",
    "        r5_tr_crd = (crd_r5_tr).transform_to(map.coordinate_frame)\n",
    "        r6_bl_crd = (crd_r6_bl).transform_to(map.coordinate_frame)\n",
    "        r6_tr_crd = (crd_r6_tr).transform_to(map.coordinate_frame)\n",
    "\n",
    "    return r1_bl_crd,r1_tr_crd,r2_bl_crd,r2_tr_crd,r3_bl_crd,r3_tr_crd,r4_bl_crd,r4_tr_crd,r5_bl_crd,r5_tr_crd,r6_bl_crd,r6_tr_crd\n"
   ]
  },
  {
   "cell_type": "code",
   "execution_count": 4,
   "id": "bf281bc4",
   "metadata": {},
   "outputs": [],
   "source": [
    "eis_evts = sorted(glob.glob('/Users/andysh.to/Script/Python_Script/demcmc_FIP_averaged/data_eis/*.data.h5'))"
   ]
  },
  {
   "cell_type": "code",
   "execution_count": null,
   "id": "f3e4eb0c",
   "metadata": {},
   "outputs": [],
   "source": [
    "# for file in eis_evts:\n"
   ]
  },
  {
   "cell_type": "code",
   "execution_count": 7,
   "id": "c96341fa",
   "metadata": {},
   "outputs": [
    {
     "name": "stdout",
     "output_type": "stream",
     "text": [
      "Data file,\n",
      "   /Users/andysh.to/Script/Python_Script/demcmc_FIP_averaged/data_eis/eis_20230329_111848.data.h5\n",
      "Header file,\n",
      "   /Users/andysh.to/Script/Python_Script/demcmc_FIP_averaged/data_eis/eis_20230329_111848.head.h5\n",
      "Found a wavelength 195.12 [Angstroms] in window 1\n",
      "INFO: uncertainty should have attribute uncertainty_type. [astropy.nddata.nddata]\n",
      " + computing fits for 60 exposures, each with 160 spectra\n",
      " + running mpfit on 12 cores (of 12)\n",
      " + working on exposure 060\r"
     ]
    },
    {
     "name": "stderr",
     "output_type": "stream",
     "text": [
      "/Users/andysh.to/miniconda3/envs/solar/lib/python3.11/site-packages/eispac/core/fit_spectra.py:428: RuntimeWarning: invalid value encountered in divide\n",
      "  rel_err = obs_errs/obs_cent\n"
     ]
    },
    {
     "name": "stdout",
     "output_type": "stream",
     "text": [
      "\n",
      "\n",
      "Finished computing fits!\n",
      "   runtime : 0:00:04.781536\n",
      "   9440 spectra fit without issues\n",
      "   160 spectra have < 7 good data points\n",
      "   0 spectra have bad or invalid parameters\n",
      "INFO: uncertainty should have attribute uncertainty_type. [astropy.nddata.nddata]\n",
      "INFO: Missing metadata for solar radius: assuming the standard radius of the photosphere. [sunpy.map.mapbase]\n",
      "INFO: Missing metadata for solar radius: assuming the standard radius of the photosphere. [sunpy.map.mapbase]\n"
     ]
    },
    {
     "ename": "NameError",
     "evalue": "name 'region_coords' is not defined",
     "output_type": "error",
     "traceback": [
      "\u001b[0;31m---------------------------------------------------------------------------\u001b[0m",
      "\u001b[0;31mNameError\u001b[0m                                 Traceback (most recent call last)",
      "Cell \u001b[0;32mIn[7], line 22\u001b[0m\n\u001b[1;32m     20\u001b[0m \u001b[38;5;66;03m# Convert each coordinate pair to the format expected by eis_average\u001b[39;00m\n\u001b[1;32m     21\u001b[0m eis_average_coords \u001b[38;5;241m=\u001b[39m []\n\u001b[0;32m---> 22\u001b[0m \u001b[38;5;28;01mfor\u001b[39;00m bl_crd, tr_crd \u001b[38;5;129;01min\u001b[39;00m \u001b[43mregion_coords\u001b[49m:\n\u001b[1;32m     23\u001b[0m     eis_average_coords\u001b[38;5;241m.\u001b[39mappend([\n\u001b[1;32m     24\u001b[0m         [bl_crd\u001b[38;5;241m.\u001b[39mTx\u001b[38;5;241m.\u001b[39mvalue, bl_crd\u001b[38;5;241m.\u001b[39mTy\u001b[38;5;241m.\u001b[39mvalue],\n\u001b[1;32m     25\u001b[0m         [tr_crd\u001b[38;5;241m.\u001b[39mTx\u001b[38;5;241m.\u001b[39mvalue, tr_crd\u001b[38;5;241m.\u001b[39mTy\u001b[38;5;241m.\u001b[39mvalue]\n\u001b[1;32m     26\u001b[0m     ])\n\u001b[1;32m     28\u001b[0m results \u001b[38;5;241m=\u001b[39m []\n",
      "\u001b[0;31mNameError\u001b[0m: name 'region_coords' is not defined"
     ]
    }
   ],
   "source": [
    "from eis_average_pixel import eis_averaged_fip\n",
    "eis_evts = sorted(glob.glob('/Users/andysh.to/Script/Python_Script/demcmc_FIP_averaged/data_eis/*.data.h5'))\n",
    "\n",
    "for eis_evt in eis_evts:\n",
    "    # List of all region coordinates\n",
    "    data_cube = eispac.read_cube(eis_evts[0], 195.119)\n",
    "    tmplt_loc = eispac.data.get_fit_template_filepath(\"fe_12_195_119.1c.template.h5\")\n",
    "    tmplt = eispac.read_template(tmplt_loc)\n",
    "    fit_res = eispac.fit_spectra(data_cube, tmplt, ncpu='max')\n",
    "    fexii_map = fit_res.get_map(component=0, measurement='intensity')\n",
    "    r1_bl_crd,r1_tr_crd,r2_bl_crd,r2_tr_crd,r3_bl_crd,r3_tr_crd,r4_bl_crd,r4_tr_crd,r5_bl_crd,r5_tr_crd,r6_bl_crd,r6_tr_crd=get_iris_rois(fexii_map)\n",
    "    regions = [\n",
    "        (r1_bl_crd, r1_tr_crd),\n",
    "        (r2_bl_crd, r2_tr_crd),\n",
    "        (r3_bl_crd, r3_tr_crd),\n",
    "        (r4_bl_crd, r4_tr_crd),\n",
    "        (r5_bl_crd, r5_tr_crd),\n",
    "        (r6_bl_crd, r6_tr_crd)\n",
    "    ]\n",
    "    # Convert each coordinate pair to the format expected by eis_average\n",
    "    eis_average_coords = []\n",
    "    for bl_crd, tr_crd in regions:\n",
    "        eis_average_coords.append([\n",
    "            [bl_crd.Tx.value, bl_crd.Ty.value],\n",
    "            [tr_crd.Tx.value, tr_crd.Ty.value]\n",
    "        ])\n",
    "\n",
    "    results = []\n",
    "\n",
    "\n",
    "    event_results = []\n",
    "    for i, coords in enumerate(eis_average_coords, 1):\n",
    "        bl_crd, tr_crd = coords\n",
    "        fip_ratio, mcmc_lines, chi2 = eis_averaged_fip(eis_evt, bl_crd, tr_crd)\n",
    "        event_results.append(f\"Region {i}: FIP ratio = {fip_ratio}, Chi-squared = {chi2}\")\n",
    "    results.append(event_results)\n",
    "\n",
    "# Write results to file\n",
    "with open('eis_composition_results.txt', 'w') as f:\n",
    "    for i, event_result in enumerate(results):\n",
    "        f.write(f\"EIS Event {i+1}: {eis_evts[i]}\\n\")\n",
    "        for result in event_result:\n",
    "            f.write(f\"{result}\\n\")\n",
    "        f.write(\"\\n\")\n",
    "\n",
    "print(\"Results have been written to eis_composition_results.txt\")\n"
   ]
  },
  {
   "cell_type": "code",
   "execution_count": 190,
   "id": "049860aa",
   "metadata": {},
   "outputs": [
    {
     "name": "stdout",
     "output_type": "stream",
     "text": [
      "Data file,\n",
      "   /Users/andysh.to/Script/Python_Script/demcmc_FIP_averaged/data_eis/eis_20230329_111848.data.h5\n",
      "Header file,\n",
      "   /Users/andysh.to/Script/Python_Script/demcmc_FIP_averaged/data_eis/eis_20230329_111848.head.h5\n",
      "Found a wavelength 195.12 [Angstroms] in window 1\n",
      "INFO: uncertainty should have attribute uncertainty_type. [astropy.nddata.nddata]\n",
      " + computing fits for 60 exposures, each with 160 spectra\n",
      " + running mpfit on 12 cores (of 12)\n",
      " + working on exposure 060\n",
      "\n",
      "Finished computing fits!\n",
      "   runtime : 0:00:15.227828\n",
      "   9440 spectra fit without issues\n",
      "   160 spectra have < 7 good data points\n",
      "   0 spectra have bad or invalid parameters\n",
      "INFO: uncertainty should have attribute uncertainty_type. [astropy.nddata.nddata]\n"
     ]
    },
    {
     "name": "stderr",
     "output_type": "stream",
     "text": [
      "/Users/andysh.to/miniconda3/envs/solar/lib/python3.11/site-packages/eispac/core/fit_spectra.py:428: RuntimeWarning: invalid value encountered in divide\n",
      "  rel_err = obs_errs/obs_cent\n"
     ]
    }
   ],
   "source": []
  },
  {
   "cell_type": "code",
   "execution_count": 191,
   "id": "a0a372dd",
   "metadata": {},
   "outputs": [
    {
     "name": "stdout",
     "output_type": "stream",
     "text": [
      "INFO: Missing metadata for solar radius: assuming the standard radius of the photosphere. [sunpy.map.mapbase]\n",
      "INFO: Missing metadata for solar radius: assuming the standard radius of the photosphere. [sunpy.map.mapbase]\n"
     ]
    }
   ],
   "source": [
    "r1_bl_crd,r1_tr_crd,r2_bl_crd,r2_tr_crd,r3_bl_crd,r3_tr_crd,r4_bl_crd,r4_tr_crd,r5_bl_crd,r5_tr_crd,r6_bl_crd,r6_tr_crd = get_iris_rois(fexii_map)"
   ]
  },
  {
   "cell_type": "code",
   "execution_count": 192,
   "id": "b8674189",
   "metadata": {},
   "outputs": [
    {
     "data": {
      "image/png": "[encoded data removed]",
      "text/plain": [
       "<Figure size 500x500 with 1 Axes>"
      ]
     },
     "metadata": {},
     "output_type": "display_data"
    }
   ],
   "source": [
    "fig = plt.figure(figsize=(5, 5))\n",
    "ax = fig.add_subplot(projection=fexii_map)\n",
    "fexii_map.plot(axes=ax, clip_interval=(1, 99.99)*u.percent)\n",
    "\n",
    "# List of all coordinate pairs\n",
    "coord_pairs = [\n",
    "    (r1_bl_crd, r1_tr_crd),\n",
    "    (r2_bl_crd, r2_tr_crd),\n",
    "    (r3_bl_crd, r3_tr_crd),\n",
    "    (r4_bl_crd, r4_tr_crd),\n",
    "    (r5_bl_crd, r5_tr_crd),\n",
    "    (r6_bl_crd, r6_tr_crd)\n",
    "]\n",
    "\n",
    "# Loop through all coordinate pairs and plot them\n",
    "for bl_crd, tr_crd in coord_pairs:\n",
    "    coords = SkyCoord(\n",
    "        Tx=[bl_crd.Tx.value, tr_crd.Tx.value],\n",
    "        Ty=[bl_crd.Ty.value, tr_crd.Ty.value],\n",
    "        frame=fexii_map.coordinate_frame,\n",
    "        unit=u.arcsec\n",
    "    )\n",
    "    fexii_map.draw_quadrangle(\n",
    "        coords,\n",
    "        axes=ax,\n",
    "        edgecolor=\"blue\",\n",
    "        linestyle=\"-\",\n",
    "        linewidth=2,\n",
    "    )"
   ]
  },
  {
   "cell_type": "code",
   "execution_count": 193,
   "id": "83d749c4",
   "metadata": {},
   "outputs": [],
   "source": [
    "from eis_average.function import average_spectral_data\n",
    "import eispac"
   ]
  },
  {
   "cell_type": "code",
   "execution_count": 194,
   "id": "1072fbc2",
   "metadata": {},
   "outputs": [
    {
     "name": "stdout",
     "output_type": "stream",
     "text": [
      "[216.88862131045445, -210.08356892192884]\n",
      "[220.8914582334983, -206.08513765573548]\n",
      "<Helioprojective Frame (obstime=None, rsun=695700.0 km, observer=<HeliographicStonyhurst Coordinate (obstime=None, rsun=695700.0 km): (lon, lat, radius) in (deg, deg, m)\n",
      "    (1.12158621e-14, -6.7001369, 1.49339412e+11)>)>\n",
      "SHIFT2WAVE: shifted to 195.12 FOV according to CCD offset - OFFSET: -0.0\n",
      "5 3\n",
      "NDCube\n",
      "------\n",
      "Dimensions: [ 5.  3. 13.] pix\n",
      "Physical Types of Axes: [('custom:pos.helioprojective.lon', 'custom:pos.helioprojective.lat'), ('custom:pos.helioprojective.lon', 'custom:pos.helioprojective.lat'), ('em.wl',)]\n",
      "Unit: erg / (s sr cm2)\n",
      "Data Type: float32\n",
      "INFO: overwriting NDData's current meta with specified meta. [astropy.nddata.nddata]\n",
      "INFO: uncertainty should have attribute uncertainty_type. [astropy.nddata.nddata]\n"
     ]
    },
    {
     "name": "stderr",
     "output_type": "stream",
     "text": [
      "WARNING: target cannot be converted to ICRS, so will not be set on SpectralCoord [astropy.wcs.wcsapi.fitswcs]\n",
      "WARNING: No observer defined on WCS, SpectralCoord will be converted without any velocity frame change [astropy.wcs.wcsapi.fitswcs]\n"
     ]
    }
   ],
   "source": [
    "print([r1_bl_crd.Tx.value, r1_bl_crd.Ty.value])\n",
    "print([r1_tr_crd.Tx.value, r1_tr_crd.Ty.value])\n",
    "\n",
    "data_averaged, data_cropped = average_spectral_data(data_cube, tmplt, [r1_bl_crd.Tx.value, r1_bl_crd.Ty.value], [r1_tr_crd.Tx.value, r1_tr_crd.Ty.value])"
   ]
  },
  {
   "cell_type": "code",
   "execution_count": 195,
   "id": "139cf266",
   "metadata": {},
   "outputs": [
    {
     "data": {
      "text/plain": [
       "array([   57.085617,    76.412766,    85.38966 ,   188.05779 ,\n",
       "         471.94104 ,  1139.4045  ,  1953.2753  ,  1801.6146  ,\n",
       "        1107.5278  ,   525.6314  , -1063.3359  ,   137.64687 ,\n",
       "          93.05296 ], dtype=float32)"
      ]
     },
     "execution_count": 195,
     "metadata": {},
     "output_type": "execute_result"
    }
   ],
   "source": [
    "data_cropped.data\n",
    "# Average the data to create a 1D array\n",
    "averaged_data = np.mean(data_cropped.data, axis=(0, 1))\n",
    "\n",
    "averaged_data"
   ]
  },
  {
   "cell_type": "code",
   "execution_count": 196,
   "id": "13e7fd38",
   "metadata": {},
   "outputs": [
    {
     "data": {
      "text/plain": [
       "<eispac.core.eiscube.EISCube object at 0x17749abd0>\n",
       "NDCube\n",
       "------\n",
       "Dimensions: [ 1.  1. 13.] pix\n",
       "Physical Types of Axes: [('custom:pos.helioprojective.lon', 'custom:pos.helioprojective.lat'), ('custom:pos.helioprojective.lon', 'custom:pos.helioprojective.lat'), ('em.wl',)]\n",
       "Unit: erg / (s sr cm2)\n",
       "Data Type: float32"
      ]
     },
     "execution_count": 196,
     "metadata": {},
     "output_type": "execute_result"
    }
   ],
   "source": [
    "data_cutout"
   ]
  },
  {
   "cell_type": "code",
   "execution_count": 222,
   "id": "72d5687d",
   "metadata": {},
   "outputs": [
    {
     "data": {
      "text/plain": [
       "'/Users/andysh.to/miniconda3/envs/solar/lib/python3.11/site-packages/eispac/data/templates/fe_12_195_119.2c.template.h5'"
      ]
     },
     "execution_count": 222,
     "metadata": {},
     "output_type": "execute_result"
    }
   ],
   "source": [
    "tmplt_loc"
   ]
  },
  {
   "cell_type": "code",
   "execution_count": 227,
   "id": "1981200c",
   "metadata": {},
   "outputs": [
    {
     "data": {
      "text/plain": [
       "<SkyCoord (Helioprojective: obstime=2023-03-29T11:34:37.500, rsun=695700.0 km, observer=<HeliographicStonyhurst Coordinate (obstime=2023-03-29T11:34:37.500, rsun=695700.0 km): (lon, lat, radius) in (deg, deg, m)\n",
       "    (1.12158621e-14, -6.7001369, 1.49339412e+11)>): (Tx, Ty, distance) in (arcsec, arcsec, AU)\n",
       "    (216.88862131, -210.08356892, 0.99385635)>"
      ]
     },
     "execution_count": 227,
     "metadata": {},
     "output_type": "execute_result"
    }
   ],
   "source": [
    "r1_bl_crd"
   ]
  },
  {
   "cell_type": "code",
   "execution_count": 230,
   "id": "18674bec",
   "metadata": {},
   "outputs": [
    {
     "data": {
      "text/plain": [
       "<eispac.core.eiscube.EISCube object at 0x32dbbce90>\n",
       "NDCube\n",
       "------\n",
       "Dimensions: [ 160.   60. 1024.] pix\n",
       "Physical Types of Axes: [('custom:pos.helioprojective.lon', 'custom:pos.helioprojective.lat'), ('custom:pos.helioprojective.lon', 'custom:pos.helioprojective.lat'), ('em.wl',)]\n",
       "Unit: erg / (s sr cm2)\n",
       "Data Type: float32"
      ]
     },
     "execution_count": 230,
     "metadata": {},
     "output_type": "execute_result"
    }
   ],
   "source": [
    "data_cube"
   ]
  },
  {
   "cell_type": "code",
   "execution_count": 229,
   "id": "11b22305",
   "metadata": {},
   "outputs": [
    {
     "data": {
      "text/plain": [
       "<eispac.core.eiscube.EISCube object at 0x32dafa010>\n",
       "NDCube\n",
       "------\n",
       "Dimensions: [ 1.  1. 13.] pix\n",
       "Physical Types of Axes: [('custom:pos.helioprojective.lon', 'custom:pos.helioprojective.lat'), ('custom:pos.helioprojective.lon', 'custom:pos.helioprojective.lat'), ('em.wl',)]\n",
       "Unit: erg / (s sr cm2)\n",
       "Data Type: float32"
      ]
     },
     "execution_count": 229,
     "metadata": {},
     "output_type": "execute_result"
    }
   ],
   "source": [
    "data_averaged"
   ]
  },
  {
   "cell_type": "code",
   "execution_count": 232,
   "id": "e64b7122",
   "metadata": {},
   "outputs": [
    {
     "name": "stdout",
     "output_type": "stream",
     "text": [
      "Data file,\n",
      "   /Users/andysh.to/Script/Python_Script/demcmc_FIP_averaged/data_eis/eis_20230329_111848.data.h5\n",
      "Header file,\n",
      "   /Users/andysh.to/Script/Python_Script/demcmc_FIP_averaged/data_eis/eis_20230329_111848.head.h5\n",
      "Found a wavelength 195.11 [Angstroms] in window 1\n",
      "INFO: uncertainty should have attribute uncertainty_type. [astropy.nddata.nddata]\n",
      "<Helioprojective Frame (obstime=None, rsun=695700.0 km, observer=<HeliographicStonyhurst Coordinate (obstime=None, rsun=695700.0 km): (lon, lat, radius) in (deg, deg, m)\n",
      "    (1.12158621e-14, -6.7001369, 1.49339412e+11)>)>\n",
      "SHIFT2WAVE: shifted to 195.12 FOV according to CCD offset - OFFSET: -0.0\n",
      "5 3\n",
      "NDCube\n",
      "------\n",
      "Dimensions: [ 5.  3. 13.] pix\n",
      "Physical Types of Axes: [('custom:pos.helioprojective.lon', 'custom:pos.helioprojective.lat'), ('custom:pos.helioprojective.lon', 'custom:pos.helioprojective.lat'), ('em.wl',)]\n",
      "Unit: erg / (s sr cm2)\n",
      "Data Type: float32\n",
      "INFO: overwriting NDData's current meta with specified meta. [astropy.nddata.nddata]\n",
      "INFO: uncertainty should have attribute uncertainty_type. [astropy.nddata.nddata]\n"
     ]
    },
    {
     "name": "stderr",
     "output_type": "stream",
     "text": [
      "WARNING: target cannot be converted to ICRS, so will not be set on SpectralCoord [astropy.wcs.wcsapi.fitswcs]\n",
      "WARNING: No observer defined on WCS, SpectralCoord will be converted without any velocity frame change [astropy.wcs.wcsapi.fitswcs]\n",
      "Error: missing or invalid data. Please input a filepath, EISCube, or complete set of intensity, wavelength, and error arrays.\n"
     ]
    }
   ],
   "source": [
    "tmplt = eispac.read_template(tmplt_loc)\n",
    "data_cube = eispac.read_cube(eis_evts[0], tmplt.central_wave)\n",
    "data_averaged, data_cropped = average_spectral_data(\n",
    "    data_cube, tmplt, \n",
    "    [r1_bl_crd.Tx.value, r1_bl_crd.Ty.value], \n",
    "    [r1_tr_crd.Tx.value, r1_tr_crd.Ty.value]\n",
    ")\n",
    "\n",
    "fit_res = eispac.fit_spectra(data_averaged, tmplt, ncpu='max')\n"
   ]
  },
  {
   "cell_type": "code",
   "execution_count": null,
   "id": "aaea8e08",
   "metadata": {},
   "outputs": [],
   "source": []
  },
  {
   "cell_type": "code",
   "execution_count": 225,
   "id": "4852eeb3",
   "metadata": {},
   "outputs": [],
   "source": [
    "fit_res"
   ]
  },
  {
   "cell_type": "code",
   "execution_count": 221,
   "id": "b8165b49",
   "metadata": {},
   "outputs": [],
   "source": [
    "fit_res"
   ]
  },
  {
   "cell_type": "code",
   "execution_count": 216,
   "id": "592b299f",
   "metadata": {},
   "outputs": [
    {
     "name": "stderr",
     "output_type": "stream",
     "text": [
      "Error: missing or invalid data. Please input a filepath, EISCube, or complete set of intensity, wavelength, and error arrays.\n"
     ]
    }
   ],
   "source": [
    "averaged_fit_res = eispac.fit_spectra(data_averaged, tmplt, ncpu='max')\n"
   ]
  },
  {
   "cell_type": "code",
   "execution_count": 215,
   "id": "bb041648",
   "metadata": {},
   "outputs": [
    {
     "name": "stderr",
     "output_type": "stream",
     "text": [
      "Error: missing or invalid data. Please input a filepath, EISCube, or complete set of intensity, wavelength, and error arrays.\n"
     ]
    },
    {
     "ename": "AttributeError",
     "evalue": "'NoneType' object has no attribute 'get_map'",
     "output_type": "error",
     "traceback": [
      "\u001b[0;31m---------------------------------------------------------------------------\u001b[0m",
      "\u001b[0;31mAttributeError\u001b[0m                            Traceback (most recent call last)",
      "Cell \u001b[0;32mIn[215], line 2\u001b[0m\n\u001b[1;32m      1\u001b[0m averaged_fit_res \u001b[38;5;241m=\u001b[39m eispac\u001b[38;5;241m.\u001b[39mfit_spectra(data_averaged, tmplt, ncpu\u001b[38;5;241m=\u001b[39m\u001b[38;5;124m'\u001b[39m\u001b[38;5;124mmax\u001b[39m\u001b[38;5;124m'\u001b[39m)\n\u001b[0;32m----> 2\u001b[0m averaged_intensity \u001b[38;5;241m=\u001b[39m \u001b[43maveraged_fit_res\u001b[49m\u001b[38;5;241;43m.\u001b[39;49m\u001b[43mget_map\u001b[49m(component\u001b[38;5;241m=\u001b[39m\u001b[38;5;241m0\u001b[39m, measurement\u001b[38;5;241m=\u001b[39m\u001b[38;5;124m'\u001b[39m\u001b[38;5;124mintensity\u001b[39m\u001b[38;5;124m'\u001b[39m)\n\u001b[1;32m      3\u001b[0m \u001b[38;5;28mprint\u001b[39m(\u001b[38;5;124mf\u001b[39m\u001b[38;5;124m'\u001b[39m\u001b[38;5;124mAveraged Intensity: \u001b[39m\u001b[38;5;132;01m{\u001b[39;00maveraged_intensity\u001b[38;5;241m.\u001b[39mdata[\u001b[38;5;241m0\u001b[39m][\u001b[38;5;241m0\u001b[39m]\u001b[38;5;132;01m}\u001b[39;00m\u001b[38;5;124m'\u001b[39m)\n",
      "\u001b[0;31mAttributeError\u001b[0m: 'NoneType' object has no attribute 'get_map'"
     ]
    }
   ],
   "source": [
    "averaged_fit_res = eispac.fit_spectra(data_averaged, tmplt, ncpu='max')\n",
    "averaged_intensity = averaged_fit_res.get_map(component=0, measurement='intensity')\n",
    "print(f'Averaged Intensity: {averaged_intensity.data[0][0]}')"
   ]
  },
  {
   "cell_type": "code",
   "execution_count": 168,
   "id": "077ba729",
   "metadata": {},
   "outputs": [],
   "source": [
    "# Test with filename and EISCube\n",
    "eis_cube = asheis(filename, eiscube=data_cutout_sum)\n",
    "\n",
    "\n"
   ]
  },
  {
   "cell_type": "code",
   "execution_count": 199,
   "id": "2ee3ea74",
   "metadata": {},
   "outputs": [],
   "source": [
    "ash=ashmcmc(filename, eiscube=data_cutout_sum)"
   ]
  },
  {
   "cell_type": "code",
   "execution_count": 202,
   "id": "9d9ef76f",
   "metadata": {},
   "outputs": [
    {
     "name": "stdout",
     "output_type": "stream",
     "text": [
      "Data file,\n",
      "   /Users/andysh.to/Script/Python_Script/demcmc_FIP_averaged/data_eis/eis_20230329_111848.data.h5\n",
      "Header file,\n",
      "   /Users/andysh.to/Script/Python_Script/demcmc_FIP_averaged/data_eis/eis_20230329_111848.head.h5\n",
      "Found window 0\n",
      "INFO: uncertainty should have attribute uncertainty_type. [astropy.nddata.nddata]\n",
      "Checking fe_8_185.21\n",
      "Data file,\n",
      "   /Users/andysh.to/Script/Python_Script/demcmc_FIP_averaged/data_eis/eis_20230329_111848.data.h5\n",
      "Header file,\n",
      "   /Users/andysh.to/Script/Python_Script/demcmc_FIP_averaged/data_eis/eis_20230329_111848.head.h5\n",
      "Found a wavelength 185.21 [Angstroms] in window 0\n",
      "INFO: uncertainty should have attribute uncertainty_type. [astropy.nddata.nddata]\n",
      "Checking fe_8_186.60\n",
      "Data file,\n",
      "   /Users/andysh.to/Script/Python_Script/demcmc_FIP_averaged/data_eis/eis_20230329_111848.data.h5\n",
      "Header file,\n",
      "   /Users/andysh.to/Script/Python_Script/demcmc_FIP_averaged/data_eis/eis_20230329_111848.head.h5\n",
      "Found a wavelength 186.57 [Angstroms] in window 0\n",
      "INFO: uncertainty should have attribute uncertainty_type. [astropy.nddata.nddata]\n",
      "Checking fe_9_188.50\n",
      "Data file,\n",
      "   /Users/andysh.to/Script/Python_Script/demcmc_FIP_averaged/data_eis/eis_20230329_111848.data.h5\n",
      "Header file,\n",
      "   /Users/andysh.to/Script/Python_Script/demcmc_FIP_averaged/data_eis/eis_20230329_111848.head.h5\n",
      "Found a wavelength 188.67 [Angstroms] in window 0\n",
      "INFO: uncertainty should have attribute uncertainty_type. [astropy.nddata.nddata]\n",
      "Checking fe_9_197.86\n",
      "Data file,\n",
      "   /Users/andysh.to/Script/Python_Script/demcmc_FIP_averaged/data_eis/eis_20230329_111848.data.h5\n",
      "Header file,\n",
      "   /Users/andysh.to/Script/Python_Script/demcmc_FIP_averaged/data_eis/eis_20230329_111848.head.h5\n",
      "Found a wavelength 197.81 [Angstroms] in window 1\n",
      "INFO: uncertainty should have attribute uncertainty_type. [astropy.nddata.nddata]\n",
      "Checking fe_10_184.54\n",
      "Data file,\n",
      "   /Users/andysh.to/Script/Python_Script/demcmc_FIP_averaged/data_eis/eis_20230329_111848.data.h5\n",
      "Header file,\n",
      "   /Users/andysh.to/Script/Python_Script/demcmc_FIP_averaged/data_eis/eis_20230329_111848.head.h5\n",
      "Found a wavelength 184.60 [Angstroms] in window 0\n",
      "INFO: uncertainty should have attribute uncertainty_type. [astropy.nddata.nddata]\n",
      "Checking fe_11_188.22\n",
      "Data file,\n",
      "   /Users/andysh.to/Script/Python_Script/demcmc_FIP_averaged/data_eis/eis_20230329_111848.data.h5\n",
      "Header file,\n",
      "   /Users/andysh.to/Script/Python_Script/demcmc_FIP_averaged/data_eis/eis_20230329_111848.head.h5\n",
      "Found a wavelength 188.20 [Angstroms] in window 0\n",
      "INFO: uncertainty should have attribute uncertainty_type. [astropy.nddata.nddata]\n",
      "Checking fe_11_188.30\n",
      "Data file,\n",
      "   /Users/andysh.to/Script/Python_Script/demcmc_FIP_averaged/data_eis/eis_20230329_111848.data.h5\n",
      "Header file,\n",
      "   /Users/andysh.to/Script/Python_Script/demcmc_FIP_averaged/data_eis/eis_20230329_111848.head.h5\n",
      "Found a wavelength 188.20 [Angstroms] in window 0\n",
      "INFO: uncertainty should have attribute uncertainty_type. [astropy.nddata.nddata]\n",
      "Checking fe_12_186.88\n",
      "Data file,\n",
      "   /Users/andysh.to/Script/Python_Script/demcmc_FIP_averaged/data_eis/eis_20230329_111848.data.h5\n",
      "Header file,\n",
      "   /Users/andysh.to/Script/Python_Script/demcmc_FIP_averaged/data_eis/eis_20230329_111848.head.h5\n",
      "Found a wavelength 186.83 [Angstroms] in window 0\n",
      "INFO: uncertainty should have attribute uncertainty_type. [astropy.nddata.nddata]\n",
      "Checking fe_12_195.12\n",
      "Data file,\n",
      "   /Users/andysh.to/Script/Python_Script/demcmc_FIP_averaged/data_eis/eis_20230329_111848.data.h5\n",
      "Header file,\n",
      "   /Users/andysh.to/Script/Python_Script/demcmc_FIP_averaged/data_eis/eis_20230329_111848.head.h5\n",
      "Found a wavelength 195.11 [Angstroms] in window 1\n",
      "INFO: uncertainty should have attribute uncertainty_type. [astropy.nddata.nddata]\n",
      "Checking fe_12_192.39\n",
      "Data file,\n",
      "   /Users/andysh.to/Script/Python_Script/demcmc_FIP_averaged/data_eis/eis_20230329_111848.data.h5\n",
      "Header file,\n",
      "   /Users/andysh.to/Script/Python_Script/demcmc_FIP_averaged/data_eis/eis_20230329_111848.head.h5\n",
      "Found a wavelength 192.41 [Angstroms] in window 1\n",
      "INFO: uncertainty should have attribute uncertainty_type. [astropy.nddata.nddata]\n",
      "Checking fe_13_202.04\n",
      "Data file,\n",
      "   /Users/andysh.to/Script/Python_Script/demcmc_FIP_averaged/data_eis/eis_20230329_111848.data.h5\n",
      "Header file,\n",
      "   /Users/andysh.to/Script/Python_Script/demcmc_FIP_averaged/data_eis/eis_20230329_111848.head.h5\n",
      "Found a wavelength 202.07 [Angstroms] in window 1\n",
      "INFO: uncertainty should have attribute uncertainty_type. [astropy.nddata.nddata]\n",
      "Checking fe_13_203.83\n",
      "Data file,\n",
      "   /Users/andysh.to/Script/Python_Script/demcmc_FIP_averaged/data_eis/eis_20230329_111848.data.h5\n",
      "Header file,\n",
      "   /Users/andysh.to/Script/Python_Script/demcmc_FIP_averaged/data_eis/eis_20230329_111848.head.h5\n",
      "Found a wavelength 203.78 [Angstroms] in window 1\n",
      "INFO: uncertainty should have attribute uncertainty_type. [astropy.nddata.nddata]\n",
      "Checking fe_14_264.79\n",
      "Data file,\n",
      "   /Users/andysh.to/Script/Python_Script/demcmc_FIP_averaged/data_eis/eis_20230329_111848.data.h5\n",
      "Header file,\n",
      "   /Users/andysh.to/Script/Python_Script/demcmc_FIP_averaged/data_eis/eis_20230329_111848.head.h5\n",
      "Found a wavelength 264.77 [Angstroms] in window 2\n",
      "INFO: uncertainty should have attribute uncertainty_type. [astropy.nddata.nddata]\n",
      "Checking fe_14_270.52\n",
      "Data file,\n",
      "   /Users/andysh.to/Script/Python_Script/demcmc_FIP_averaged/data_eis/eis_20230329_111848.data.h5\n",
      "Header file,\n",
      "   /Users/andysh.to/Script/Python_Script/demcmc_FIP_averaged/data_eis/eis_20230329_111848.head.h5\n",
      "Found a wavelength 270.48 [Angstroms] in window 3\n",
      "INFO: uncertainty should have attribute uncertainty_type. [astropy.nddata.nddata]\n",
      "Checking fe_15_284.16\n",
      "Data file,\n",
      "   /Users/andysh.to/Script/Python_Script/demcmc_FIP_averaged/data_eis/eis_20230329_111848.data.h5\n",
      "Header file,\n",
      "   /Users/andysh.to/Script/Python_Script/demcmc_FIP_averaged/data_eis/eis_20230329_111848.head.h5\n",
      "Found a wavelength 284.09 [Angstroms] in window 3\n",
      "INFO: uncertainty should have attribute uncertainty_type. [astropy.nddata.nddata]\n",
      "Checking fe_16_262.98\n",
      "Data file,\n",
      "   /Users/andysh.to/Script/Python_Script/demcmc_FIP_averaged/data_eis/eis_20230329_111848.data.h5\n",
      "Header file,\n",
      "   /Users/andysh.to/Script/Python_Script/demcmc_FIP_averaged/data_eis/eis_20230329_111848.head.h5\n",
      "Found a wavelength 262.94 [Angstroms] in window 2\n",
      "INFO: uncertainty should have attribute uncertainty_type. [astropy.nddata.nddata]\n",
      "Checking fe_17_254.87\n",
      "Data file,\n",
      "   /Users/andysh.to/Script/Python_Script/demcmc_FIP_averaged/data_eis/eis_20230329_111848.data.h5\n",
      "Header file,\n",
      "   /Users/andysh.to/Script/Python_Script/demcmc_FIP_averaged/data_eis/eis_20230329_111848.head.h5\n",
      "Found a wavelength 254.97 [Angstroms] in window 2\n",
      "INFO: uncertainty should have attribute uncertainty_type. [astropy.nddata.nddata]\n",
      "Checking fe_22_253.10\n",
      "Data file,\n",
      "   /Users/andysh.to/Script/Python_Script/demcmc_FIP_averaged/data_eis/eis_20230329_111848.data.h5\n",
      "Header file,\n",
      "   /Users/andysh.to/Script/Python_Script/demcmc_FIP_averaged/data_eis/eis_20230329_111848.head.h5\n",
      "Found a wavelength 253.17 [Angstroms] in window 2\n",
      "INFO: uncertainty should have attribute uncertainty_type. [astropy.nddata.nddata]\n",
      "Checking fe_23_263.76\n",
      "Data file,\n",
      "   /Users/andysh.to/Script/Python_Script/demcmc_FIP_averaged/data_eis/eis_20230329_111848.data.h5\n",
      "Header file,\n",
      "   /Users/andysh.to/Script/Python_Script/demcmc_FIP_averaged/data_eis/eis_20230329_111848.head.h5\n",
      "Found a wavelength 263.71 [Angstroms] in window 2\n",
      "INFO: uncertainty should have attribute uncertainty_type. [astropy.nddata.nddata]\n",
      "Checking fe_24_255.10\n",
      "Data file,\n",
      "   /Users/andysh.to/Script/Python_Script/demcmc_FIP_averaged/data_eis/eis_20230329_111848.data.h5\n",
      "Header file,\n",
      "   /Users/andysh.to/Script/Python_Script/demcmc_FIP_averaged/data_eis/eis_20230329_111848.head.h5\n",
      "Found a wavelength 254.97 [Angstroms] in window 2\n",
      "INFO: uncertainty should have attribute uncertainty_type. [astropy.nddata.nddata]\n"
     ]
    }
   ],
   "source": [
    "Lines, dim, dem_num = ash.check_existing_lines()\n",
    "dict = eis_cube.dict"
   ]
  },
  {
   "cell_type": "code",
   "execution_count": 208,
   "id": "08a92863",
   "metadata": {},
   "outputs": [
    {
     "data": {
      "text/plain": [
       "['fe_8_185.21',\n",
       " 'fe_8_186.60',\n",
       " 'fe_9_188.50',\n",
       " 'fe_9_197.86',\n",
       " 'fe_10_184.54',\n",
       " 'fe_11_188.22',\n",
       " 'fe_11_188.30',\n",
       " 'fe_12_186.88',\n",
       " 'fe_12_195.12',\n",
       " 'fe_12_192.39',\n",
       " 'fe_13_202.04',\n",
       " 'fe_13_203.83',\n",
       " 'fe_14_264.79',\n",
       " 'fe_14_270.52',\n",
       " 'fe_15_284.16',\n",
       " 'fe_16_262.98',\n",
       " 'fe_17_254.87',\n",
       " 'fe_22_253.10',\n",
       " 'fe_23_263.76',\n",
       " 'fe_24_255.10']"
      ]
     },
     "execution_count": 208,
     "metadata": {},
     "output_type": "execute_result"
    }
   ],
   "source": [
    "Lines"
   ]
  },
  {
   "cell_type": "code",
   "execution_count": 210,
   "id": "ff817ffb",
   "metadata": {},
   "outputs": [
    {
     "name": "stdout",
     "output_type": "stream",
     "text": [
      "Data file,\n",
      "   /Users/andysh.to/Script/Python_Script/demcmc_FIP_averaged/data_eis/eis_20230329_111848.data.h5\n",
      "Header file,\n",
      "   /Users/andysh.to/Script/Python_Script/demcmc_FIP_averaged/data_eis/eis_20230329_111848.head.h5\n",
      "Found a wavelength 195.12 [Angstroms] in window 1\n",
      "INFO: uncertainty should have attribute uncertainty_type. [astropy.nddata.nddata]\n",
      " + computing fits for 60 exposures, each with 160 spectra\n",
      " + running mpfit on 12 cores (of 12)\n",
      " + working on exposure 060\n",
      "\n",
      "Finished computing fits!\n",
      "   runtime : 0:00:06.404202\n",
      "   9440 spectra fit without issues\n",
      "   160 spectra have < 7 good data points\n",
      "   0 spectra have bad or invalid parameters\n",
      "INFO: uncertainty should have attribute uncertainty_type. [astropy.nddata.nddata]\n"
     ]
    },
    {
     "name": "stderr",
     "output_type": "stream",
     "text": [
      "/Users/andysh.to/miniconda3/envs/solar/lib/python3.11/site-packages/eispac/core/fit_spectra.py:428: RuntimeWarning: invalid value encountered in divide\n",
      "  rel_err = obs_errs/obs_cent\n"
     ]
    }
   ],
   "source": [
    "# for file in eis_evts:\n",
    "data_cube = eispac.read_cube(eis_evts[0], 195.119)\n",
    "tmplt_loc = eispac.data.get_fit_template_filepath(\"fe_12_195_119.2c.template.h5\")\n",
    "tmplt = eispac.read_template(tmplt_loc)\n",
    "fit_res = eispac.fit_spectra(data_cube, tmplt, ncpu='max')\n",
    "fexii_map = fit_res.get_map(component=0, measurement='intensity')"
   ]
  },
  {
   "cell_type": "code",
   "execution_count": 211,
   "id": "f78de7dc",
   "metadata": {},
   "outputs": [
    {
     "ename": "NameError",
     "evalue": "name 'data_cutout_averaged' is not defined",
     "output_type": "error",
     "traceback": [
      "\u001b[0;31m---------------------------------------------------------------------------\u001b[0m",
      "\u001b[0;31mNameError\u001b[0m                                 Traceback (most recent call last)",
      "Cell \u001b[0;32mIn[211], line 1\u001b[0m\n\u001b[0;32m----> 1\u001b[0m averaged_fit_res \u001b[38;5;241m=\u001b[39m eispac\u001b[38;5;241m.\u001b[39mfit_spectra(\u001b[43mdata_cutout_averaged\u001b[49m, tmplt, ncpu\u001b[38;5;241m=\u001b[39m\u001b[38;5;124m'\u001b[39m\u001b[38;5;124mmax\u001b[39m\u001b[38;5;124m'\u001b[39m)\n\u001b[1;32m      2\u001b[0m averaged_intensity \u001b[38;5;241m=\u001b[39m averaged_fit_res\u001b[38;5;241m.\u001b[39mget_map(component\u001b[38;5;241m=\u001b[39m\u001b[38;5;241m0\u001b[39m, measurement\u001b[38;5;241m=\u001b[39m\u001b[38;5;124m'\u001b[39m\u001b[38;5;124mintensity\u001b[39m\u001b[38;5;124m'\u001b[39m)\n\u001b[1;32m      3\u001b[0m \u001b[38;5;28mprint\u001b[39m(\u001b[38;5;124mf\u001b[39m\u001b[38;5;124m'\u001b[39m\u001b[38;5;124mAveraged Intensity: \u001b[39m\u001b[38;5;132;01m{\u001b[39;00maveraged_intensity\u001b[38;5;241m.\u001b[39mdata[\u001b[38;5;241m0\u001b[39m][\u001b[38;5;241m0\u001b[39m]\u001b[38;5;132;01m}\u001b[39;00m\u001b[38;5;124m'\u001b[39m)\n",
      "\u001b[0;31mNameError\u001b[0m: name 'data_cutout_averaged' is not defined"
     ]
    }
   ],
   "source": [
    "averaged_fit_res = eispac.fit_spectra(data_cutout_averaged, tmplt, ncpu='max')\n",
    "averaged_intensity = averaged_fit_res.get_map(component=0, measurement='intensity')\n",
    "print(f'Averaged Intensity: {averaged_intensity.data[0][0]}')"
   ]
  },
  {
   "cell_type": "code",
   "execution_count": 184,
   "id": "6185a81a",
   "metadata": {},
   "outputs": [
    {
     "ename": "NameError",
     "evalue": "name 'averaged_intensity' is not defined",
     "output_type": "error",
     "traceback": [
      "\u001b[0;31m---------------------------------------------------------------------------\u001b[0m",
      "\u001b[0;31mNameError\u001b[0m                                 Traceback (most recent call last)",
      "Cell \u001b[0;32mIn[184], line 1\u001b[0m\n\u001b[0;32m----> 1\u001b[0m \u001b[43maveraged_intensity\u001b[49m\n",
      "\u001b[0;31mNameError\u001b[0m: name 'averaged_intensity' is not defined"
     ]
    }
   ],
   "source": [
    "averaged_intensity"
   ]
  },
  {
   "cell_type": "code",
   "execution_count": 89,
   "id": "a8401acc",
   "metadata": {},
   "outputs": [],
   "source": [
    "from ashmcmc import ashmcmc\n",
    "test = ashmcmc(data_cutout_sum)"
   ]
  },
  {
   "cell_type": "code",
   "execution_count": 90,
   "id": "9900fe8a",
   "metadata": {},
   "outputs": [
    {
     "name": "stdout",
     "output_type": "stream",
     "text": [
      "Checking fe_8_185.21\n",
      "Checking fe_8_186.60\n",
      "Checking fe_9_188.50\n",
      "Checking fe_9_197.86\n",
      "Checking fe_10_184.54\n",
      "Checking fe_11_188.22\n",
      "Checking fe_11_188.30\n",
      "Checking fe_12_186.88\n",
      "Checking fe_12_195.12\n",
      "Checking fe_12_192.39\n",
      "Checking fe_13_202.04\n",
      "Checking fe_13_203.83\n",
      "Checking fe_14_264.79\n",
      "Checking fe_14_270.52\n",
      "Checking fe_15_284.16\n",
      "Checking fe_16_262.98\n",
      "Checking fe_17_254.87\n",
      "Checking fe_22_253.10\n",
      "Checking fe_23_263.76\n",
      "Checking fe_24_255.10\n"
     ]
    },
    {
     "name": "stderr",
     "output_type": "stream",
     "text": [
      "Error: Data file does not exist, /Users/andysh.to/Script/Python_Script/demcmc_FIP_averaged/unknown\n",
      "Error: Data file does not exist, /Users/andysh.to/Script/Python_Script/demcmc_FIP_averaged/unknown\n",
      "Error: Data file does not exist, /Users/andysh.to/Script/Python_Script/demcmc_FIP_averaged/unknown\n",
      "Error: Data file does not exist, /Users/andysh.to/Script/Python_Script/demcmc_FIP_averaged/unknown\n",
      "Error: Data file does not exist, /Users/andysh.to/Script/Python_Script/demcmc_FIP_averaged/unknown\n",
      "Error: Data file does not exist, /Users/andysh.to/Script/Python_Script/demcmc_FIP_averaged/unknown\n",
      "Error: Data file does not exist, /Users/andysh.to/Script/Python_Script/demcmc_FIP_averaged/unknown\n",
      "Error: Data file does not exist, /Users/andysh.to/Script/Python_Script/demcmc_FIP_averaged/unknown\n",
      "Error: Data file does not exist, /Users/andysh.to/Script/Python_Script/demcmc_FIP_averaged/unknown\n",
      "Error: Data file does not exist, /Users/andysh.to/Script/Python_Script/demcmc_FIP_averaged/unknown\n",
      "Error: Data file does not exist, /Users/andysh.to/Script/Python_Script/demcmc_FIP_averaged/unknown\n",
      "Error: Data file does not exist, /Users/andysh.to/Script/Python_Script/demcmc_FIP_averaged/unknown\n",
      "Error: Data file does not exist, /Users/andysh.to/Script/Python_Script/demcmc_FIP_averaged/unknown\n",
      "Error: Data file does not exist, /Users/andysh.to/Script/Python_Script/demcmc_FIP_averaged/unknown\n",
      "Error: Data file does not exist, /Users/andysh.to/Script/Python_Script/demcmc_FIP_averaged/unknown\n",
      "Error: Data file does not exist, /Users/andysh.to/Script/Python_Script/demcmc_FIP_averaged/unknown\n",
      "Error: Data file does not exist, /Users/andysh.to/Script/Python_Script/demcmc_FIP_averaged/unknown\n",
      "Error: Data file does not exist, /Users/andysh.to/Script/Python_Script/demcmc_FIP_averaged/unknown\n",
      "Error: Data file does not exist, /Users/andysh.to/Script/Python_Script/demcmc_FIP_averaged/unknown\n",
      "Error: Data file does not exist, /Users/andysh.to/Script/Python_Script/demcmc_FIP_averaged/unknown\n"
     ]
    },
    {
     "name": "stdout",
     "output_type": "stream",
     "text": [
      "------------------------------Found 1 usable lines------------------------------\n",
      "Found 1 usable lines for DEM\n"
     ]
    },
    {
     "name": "stderr",
     "output_type": "stream",
     "text": [
      "0it [00:00, ?it/s]\n"
     ]
    },
    {
     "data": {
      "text/plain": [
       "([], array([[[0.]]]), array([[[0.]]]))"
      ]
     },
     "execution_count": 90,
     "metadata": {},
     "output_type": "execute_result"
    }
   ],
   "source": [
    "test.fit_data()"
   ]
  },
  {
   "cell_type": "code",
   "execution_count": null,
   "id": "c181a642",
   "metadata": {},
   "outputs": [],
   "source": [
    "fig = plt.figure(figsize=(5, 5))\n",
    "ax = fig.add_subplot(projection=fexii_map)\n",
    "fexii_map.plot(axes=ax, clip_interval=(1, 99.99)*u.percent)\n",
    "for \n"
   ]
  },
  {
   "cell_type": "code",
   "execution_count": null,
   "id": "1e13a1b8",
   "metadata": {},
   "outputs": [],
   "source": [
    "len(eis_evts)"
   ]
  },
  {
   "cell_type": "code",
   "execution_count": null,
   "id": "a842f2f2",
   "metadata": {},
   "outputs": [],
   "source": [
    "from sunpy.net import Fido, attrs as a\n",
    "import eispac.net\n",
    "from eispac.net.attrs import FileType\n",
    "results = Fido.search(a.Time('2023-03-29 11:00:00','2023-03-29 16:00:00'),\n",
    "                      a.Instrument('EIS'),\n",
    "                      a.Physobs.intensity,\n",
    "                      a.Source('Hinode'),\n",
    "                      a.Provider('NRL'),\n",
    "                      a.Level('1'))  \n",
    "\n",
    "\n",
    "\n",
    "# eispac.download_hdf5_data('eis_20160720_005944.data.h5')"
   ]
  },
  {
   "cell_type": "code",
   "execution_count": null,
   "id": "0f4880ea",
   "metadata": {},
   "outputs": [],
   "source": [
    "# Fetch the EIS data files\n",
    "downloaded_files = Fido.fetch(results)\n",
    "\n",
    "# Print the downloaded files\n",
    "print(\"Downloaded files:\")\n",
    "for file in downloaded_files:\n",
    "    print(file)\n"
   ]
  }
 ],
 "metadata": {
  "kernelspec": {
   "display_name": "solar",
   "language": "python",
   "name": "python3"
  },
  "language_info": {
   "codemirror_mode": {
    "name": "ipython",
    "version": 3
   },
   "file_extension": ".py",
   "mimetype": "text/x-python",
   "name": "python",
   "nbconvert_exporter": "python",
   "pygments_lexer": "ipython3",
   "version": "3.11.9"
  }
 },
 "nbformat": 4,
 "nbformat_minor": 5
}
